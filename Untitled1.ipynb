{
 "cells": [
  {
   "cell_type": "markdown",
   "metadata": {},
   "source": [
    "# mark \n",
    "## mark\n",
    "### mark\n",
    "#### mark\n",
    "\n",
    "* **point1\n",
    "* *point2*\n",
    "* ***point3***\n",
    "\n",
    "* NORMAL TEXT\n",
    " * SUBLIST 1\n",
    " * SUBLIST 2\n",
    " \n",
    " > 1.point1\n",
    " >2.point2\n",
    " \n",
    " * google site -- [1] https://www.google.com\n",
    " * man site -- [2] https://www.man.com\n",
    " \n",
    " * [] option 1\n",
    " * google site -- [google] [1] "
   ]
  },
  {
   "cell_type": "markdown",
   "metadata": {},
   "source": [
    "## python basics\n",
    "* python version 3.7\n",
    "- function programing\n",
    "- object oriented programing\n",
    "- scripting programing\n"
   ]
  },
  {
   "cell_type": "code",
   "execution_count": 2,
   "metadata": {},
   "outputs": [
    {
     "name": "stdout",
     "output_type": "stream",
     "text": [
      "hello,gitam\n",
      "hyderabad\n"
     ]
    }
   ],
   "source": [
    "print(\"hello,gitam\")\n",
    "print(\"hyderabad\")"
   ]
  },
  {
   "cell_type": "code",
   "execution_count": 4,
   "metadata": {},
   "outputs": [
    {
     "name": "stdout",
     "output_type": "stream",
     "text": [
      "hello,gitam ||| hyderabad|||python programing\n"
     ]
    }
   ],
   "source": [
    "print(\"hello,gitam\",\"|||\",end =\" \")\n",
    "print(\"hyderabad\",end=\"|||\")\n",
    "print(\"python programing\")"
   ]
  },
  {
   "cell_type": "markdown",
   "metadata": {},
   "source": [
    "## ASSIGNMENT"
   ]
  },
  {
   "cell_type": "code",
   "execution_count": 5,
   "metadata": {},
   "outputs": [
    {
     "name": "stdout",
     "output_type": "stream",
     "text": [
      "100\n",
      "20 20 20\n",
      "111 222 333\n"
     ]
    }
   ],
   "source": [
    " n1= 100 # single variable assignment\n",
    " a = b = c = 20\n",
    " a1,b1,c1 = 111,222,333\n",
    "print(n1)\n",
    "print(a,b,c)\n",
    "print(a1,b1,c1)\n",
    "\n",
    "\n",
    "    "
   ]
  },
  {
   "cell_type": "markdown",
   "metadata": {},
   "source": [
    "## data type conversations\n",
    "* int \n",
    "* float\n",
    "* string\n"
   ]
  },
  {
   "cell_type": "code",
   "execution_count": 3,
   "metadata": {},
   "outputs": [
    {
     "name": "stdout",
     "output_type": "stream",
     "text": [
      "100 python p (10, 2)\n",
      "<class 'int'> <class 'str'> <class 'str'> <class 'tuple'>\n"
     ]
    }
   ],
   "source": [
    "a=100\n",
    "s1=\"python\"\n",
    "s2='p'\n",
    "f1=10,2\n",
    "print(a,s1,s2,f1)\n",
    "print(type(a),type(s1),type(s2),type(f1))\n"
   ]
  },
  {
   "cell_type": "code",
   "execution_count": 6,
   "metadata": {},
   "outputs": [
    {
     "name": "stdout",
     "output_type": "stream",
     "text": [
      "<class 'int'>\n",
      "<class 'str'>\n"
     ]
    }
   ],
   "source": [
    "i=100\n",
    "print(type(1))\n",
    "s1= str(i) #str() converts the input into string type\n",
    "print(type(s1))"
   ]
  },
  {
   "cell_type": "code",
   "execution_count": 7,
   "metadata": {},
   "outputs": [
    {
     "name": "stdout",
     "output_type": "stream",
     "text": [
      "4\n"
     ]
    }
   ],
   "source": [
    "# a number is given 1234\n",
    "# digit count\n",
    "al = 1234\n",
    "print(len(str(al)))"
   ]
  },
  {
   "cell_type": "markdown",
   "metadata": {},
   "source": [
    "# reading a value\n",
    "* input(\"message\")--string"
   ]
  },
  {
   "cell_type": "code",
   "execution_count": 8,
   "metadata": {},
   "outputs": [
    {
     "name": "stdout",
     "output_type": "stream",
     "text": [
      "enter your namesaadhvi cheruku\n",
      "saadhvi cheruku\n",
      "<class 'str'>\n"
     ]
    }
   ],
   "source": [
    "s1=input(\"enter your name\")\n",
    "print(s1)\n",
    "print(type(s1))\n"
   ]
  },
  {
   "cell_type": "code",
   "execution_count": 9,
   "metadata": {},
   "outputs": [
    {
     "name": "stdout",
     "output_type": "stream",
     "text": [
      "enter a number56\n",
      "56 <class 'int'>\n"
     ]
    }
   ],
   "source": [
    "# want a number as a input\n",
    "n1=int(input(\"enter a number\"))\n",
    "print(n1,type(n1))"
   ]
  },
  {
   "cell_type": "markdown",
   "metadata": {},
   "source": [
    "## operations\n",
    "* operator is a symbol is used to perform a specific kind of operations\n",
    "## arthematic operators\n",
    ". /\n",
    ". +\n",
    ". -\n",
    ". *\n",
    ". %\n",
    ".//\n",
    "\n"
   ]
  },
  {
   "cell_type": "code",
   "execution_count": 10,
   "metadata": {},
   "outputs": [
    {
     "name": "stdout",
     "output_type": "stream",
     "text": [
      "1244\n",
      "1224\n",
      "12340\n",
      "123.4\n",
      "4\n",
      "8187505353567209228244052427776\n"
     ]
    }
   ],
   "source": [
    "n1=1234\n",
    "print(n1+10)\n",
    "print(n1-10)\n",
    "print(n1*10)\n",
    "print(n1/10)\n",
    "print(n1%10)\n",
    "print(n1**10)"
   ]
  },
  {
   "cell_type": "markdown",
   "metadata": {},
   "source": [
    "## precedence of the arth operators\n",
    "     * parentasis\n",
    "     * power\n",
    "     * multiplication\n",
    "     * addition\n",
    "     \n",
    "     // left to right "
   ]
  },
  {
   "cell_type": "code",
   "execution_count": 11,
   "metadata": {},
   "outputs": [
    {
     "name": "stdout",
     "output_type": "stream",
     "text": [
      "11.0\n"
     ]
    }
   ],
   "source": [
    "x= 1+ 2**3/4*5\n",
    "print(x)\n"
   ]
  },
  {
   "cell_type": "markdown",
   "metadata": {},
   "source": [
    "## relational operators\n",
    "- ==\n",
    "- i-\n",
    "- greater(>)\n",
    "- less than(<)\n",
    "- less than or equal to(<=)\n",
    "- greater than or equal to(>=)\n"
   ]
  },
  {
   "cell_type": "markdown",
   "metadata": {},
   "source": [
    "## logical operators\n",
    "* and\n",
    "* or\n",
    "* not\n"
   ]
  },
  {
   "cell_type": "code",
   "execution_count": 1,
   "metadata": {},
   "outputs": [
    {
     "name": "stdout",
     "output_type": "stream",
     "text": [
      "True\n",
      "False\n"
     ]
    }
   ],
   "source": [
    " i=100\n",
    " a1 = (i>15)and(1<800)\n",
    " a2 = (i>15) and (i>800)\n",
    " print(a1)\n",
    " print(a2)\n",
    " \n",
    " "
   ]
  },
  {
   "cell_type": "markdown",
   "metadata": {},
   "source": [
    "### control flow statements\n",
    "- conditional statements\n",
    "- looping statements"
   ]
  },
  {
   "cell_type": "markdown",
   "metadata": {},
   "source": [
    "### if-else statement\n",
    "if boolean _ condition\n",
    "   statements\n",
    "   else:\n",
    " statements\n"
   ]
  },
  {
   "cell_type": "code",
   "execution_count": 3,
   "metadata": {},
   "outputs": [
    {
     "name": "stdout",
     "output_type": "stream",
     "text": [
      "enter the number3\n",
      "odd\n"
     ]
    }
   ],
   "source": [
    "# to check given number is even or odd\n",
    "n=int(input(\"enter the number\"))\n",
    "if n%2 == 0:\n",
    "    print(\"even\")\n",
    "else:\n",
    "     print(\"odd\")\n",
    "        "
   ]
  },
  {
   "cell_type": "code",
   "execution_count": 4,
   "metadata": {},
   "outputs": [
    {
     "name": "stdout",
     "output_type": "stream",
     "text": [
      "enter a number24\n",
      "no\n"
     ]
    }
   ],
   "source": [
    "# to cheack given number is perfectly multiple of 3 and 5\n",
    "n=int(input(\"enter a number\"))\n",
    "if  n%3==0 and n%5==0:\n",
    "    print(\"yes\")\n",
    "else:\n",
    "    print(\"no\")"
   ]
  },
  {
   "cell_type": "code",
   "execution_count": null,
   "metadata": {},
   "outputs": [],
   "source": []
  }
 ],
 "metadata": {
  "kernelspec": {
   "display_name": "Python 3",
   "language": "python",
   "name": "python3"
  },
  "language_info": {
   "codemirror_mode": {
    "name": "ipython",
    "version": 3
   },
   "file_extension": ".py",
   "mimetype": "text/x-python",
   "name": "python",
   "nbconvert_exporter": "python",
   "pygments_lexer": "ipython3",
   "version": "3.7.3"
  }
 },
 "nbformat": 4,
 "nbformat_minor": 2
}
